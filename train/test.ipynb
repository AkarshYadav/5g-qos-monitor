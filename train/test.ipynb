{
 "cells": [
  {
   "cell_type": "code",
   "execution_count": 2,
   "id": "d4db6f54",
   "metadata": {},
   "outputs": [],
   "source": [
    "import pandas as pd\n",
    "import numpy as np\n",
    "import pickle\n",
    "from sklearn.ensemble import GradientBoostingRegressor\n",
    "from sklearn.metrics import mean_squared_error, mean_absolute_percentage_error, r2_score\n",
    "from sklearn.model_selection import train_test_split\n",
    "from sklearn.preprocessing import StandardScaler\n",
    "import pickle"
   ]
  },
  {
   "cell_type": "code",
   "execution_count": 3,
   "id": "dd60ae92",
   "metadata": {},
   "outputs": [],
   "source": [
    "with open(\"qos_xgb_model.pkl\", \"rb\") as f:\n",
    "    model, scaler = pickle.load(f)"
   ]
  },
  {
   "cell_type": "code",
   "execution_count": 4,
   "id": "6d856769",
   "metadata": {},
   "outputs": [],
   "source": [
    "test_df = pd.read_csv(\"Test.csv\")"
   ]
  },
  {
   "cell_type": "code",
   "execution_count": 5,
   "id": "08cd2090",
   "metadata": {},
   "outputs": [],
   "source": [
    "def process_data(df, fit_scaler=False, scaler=None):\n",
    "    df = df.copy()\n",
    "    df['Hour'] = pd.to_datetime(df['timestamp'], unit='s').dt.hour\n",
    "\n",
    "    feature_cols = ['Latitude', 'Longitude', 'Altitude', 'speed_kmh', 'Hour',\n",
    "                    'temperature', 'humidity', 'windSpeed', 'pressure', 'operator']\n",
    "    df_features = df[feature_cols].copy()\n",
    "\n",
    "    df_features.fillna(0, inplace=True)\n",
    "\n",
    "    if fit_scaler:\n",
    "        scaler = StandardScaler()\n",
    "        X_scaled = scaler.fit_transform(df_features)\n",
    "    else:\n",
    "        X_scaled = scaler.transform(df_features)\n",
    "\n",
    "    return X_scaled"
   ]
  },
  {
   "cell_type": "code",
   "execution_count": 6,
   "id": "2614fb91",
   "metadata": {},
   "outputs": [],
   "source": [
    "X_test = process_data(test_df, fit_scaler=False, scaler=scaler)"
   ]
  },
  {
   "cell_type": "code",
   "execution_count": 7,
   "id": "8229ad69",
   "metadata": {},
   "outputs": [],
   "source": [
    "test_preds_log = model.predict(X_test)\n",
    "test_preds = np.expm1(test_preds_log)"
   ]
  },
  {
   "cell_type": "code",
   "execution_count": 8,
   "id": "cc33f6aa",
   "metadata": {},
   "outputs": [
    {
     "name": "stdout",
     "output_type": "stream",
     "text": [
      "✅ Predictions completed and saved to 'Test_Predictions.csv'\n"
     ]
    }
   ],
   "source": [
    "output_df = test_df.copy()\n",
    "output_df['predicted_target'] = test_preds\n",
    "output_df.to_csv(\"Test_Predictions.csv\", index=False)\n",
    "\n",
    "print(\"✅ Predictions completed and saved to 'Test_Predictions.csv'\")"
   ]
  }
 ],
 "metadata": {
  "kernelspec": {
   "display_name": "Python 3",
   "language": "python",
   "name": "python3"
  },
  "language_info": {
   "codemirror_mode": {
    "name": "ipython",
    "version": 3
   },
   "file_extension": ".py",
   "mimetype": "text/x-python",
   "name": "python",
   "nbconvert_exporter": "python",
   "pygments_lexer": "ipython3",
   "version": "3.13.1"
  }
 },
 "nbformat": 4,
 "nbformat_minor": 5
}
